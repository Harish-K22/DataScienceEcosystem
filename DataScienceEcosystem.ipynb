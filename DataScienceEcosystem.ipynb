{
 "cells": [
  {
   "cell_type": "markdown",
   "id": "5c3534af-b866-4bdd-8298-eb337d6847d6",
   "metadata": {},
   "source": [
    "# Data Science Tools and Ecosystem"
   ]
  },
  {
   "cell_type": "markdown",
   "id": "f363b8fb-c787-4c07-8c10-3f1df89f0303",
   "metadata": {},
   "source": [
    "In this notebook, Data Science Tools and Ecosystem are summarized."
   ]
  },
  {
   "cell_type": "markdown",
   "id": "4ed3bcfc-69c1-4855-8c56-50b1926bc5f1",
   "metadata": {},
   "source": [
    "**Objectives:**\n",
    "- List popular languages for Data Science\n",
    "- List commonly used libraries for Data Science\n",
    "- Convert time units using Python"
   ]
  },
  {
   "cell_type": "markdown",
   "id": "a9676249-0cba-4965-807b-92e1a53f275c",
   "metadata": {},
   "source": [
    "Some of the popular languages that Data Scientists use are:\n",
    "1. Python\n",
    "2. R\n",
    "3. SQL"
   ]
  },
  {
   "cell_type": "markdown",
   "id": "3cfa47a6-1013-424c-a7ff-e5236646f803",
   "metadata": {},
   "source": [
    "Some of the commonly used libraries used by Data Scientists include:\n",
    "1. Pandas\n",
    "2. Numpy\n",
    "3. Matplotlib"
   ]
  },
  {
   "cell_type": "markdown",
   "id": "a931f430-f898-4b8a-9f13-9592a1ebae92",
   "metadata": {},
   "source": [
    "| Data Science Tools |\n",
    "|--------------------|\n",
    "| Jupyter Notebook   |\n",
    "| RStudio            |\n",
    "| Hadoop             |"
   ]
  },
  {
   "cell_type": "markdown",
   "id": "5b8d7afc-6b87-45e5-b974-7e50954afa5b",
   "metadata": {},
   "source": [
    "### Below are a few examples of evaluating arithmetic expressions in Python."
   ]
  },
  {
   "cell_type": "code",
   "execution_count": 4,
   "id": "7d0a11a6-e0a3-4595-a656-062f62b4775e",
   "metadata": {},
   "outputs": [
    {
     "data": {
      "text/plain": [
       "17"
      ]
     },
     "execution_count": 4,
     "metadata": {},
     "output_type": "execute_result"
    }
   ],
   "source": [
    "(3 * 4) + 5"
   ]
  },
  {
   "cell_type": "code",
   "execution_count": 5,
   "id": "0a8b5167-8ca6-4e69-bdb0-d20796acb0a8",
   "metadata": {},
   "outputs": [
    {
     "data": {
      "text/plain": [
       "3.3333333333333335"
      ]
     },
     "execution_count": 5,
     "metadata": {},
     "output_type": "execute_result"
    }
   ],
   "source": [
    "# This will convert 200 minutes to hours by dividing by 60\n",
    "200 / 60"
   ]
  },
  {
   "cell_type": "markdown",
   "id": "940e3c35-5677-4f93-92f1-18b0e93dfcd2",
   "metadata": {},
   "source": [
    "## Author\n",
    "Harish K"
   ]
  },
  {
   "cell_type": "code",
   "execution_count": null,
   "id": "209aeb81-05e0-41ad-b03a-d30fd0e426f4",
   "metadata": {},
   "outputs": [],
   "source": []
  }
 ],
 "metadata": {
  "kernelspec": {
   "display_name": "Python 3 (ipykernel)",
   "language": "python",
   "name": "python3"
  },
  "language_info": {
   "codemirror_mode": {
    "name": "ipython",
    "version": 3
   },
   "file_extension": ".py",
   "mimetype": "text/x-python",
   "name": "python",
   "nbconvert_exporter": "python",
   "pygments_lexer": "ipython3",
   "version": "3.11.9"
  }
 },
 "nbformat": 4,
 "nbformat_minor": 5
}
